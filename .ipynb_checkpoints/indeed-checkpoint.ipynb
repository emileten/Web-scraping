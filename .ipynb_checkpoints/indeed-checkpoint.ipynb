{
 "cells": [
  {
   "cell_type": "code",
   "execution_count": 371,
   "metadata": {},
   "outputs": [],
   "source": [
    "import requests #the library to make requests on the web (i.e, to look for things!)\n",
    "import pandas as pd\n",
    "from pprint import pprint  #to print (a bit more) prettily your request output.\n",
    "from bs4 import BeautifulSoup #the library to process the output of requests. See below."
   ]
  },
  {
   "cell_type": "code",
   "execution_count": 372,
   "metadata": {},
   "outputs": [],
   "source": [
    "session = requests.Session()\n",
    "base_link = 'https://www.glassdoor.com'\n",
    "payload = {'_username':'[e.tenezakis@gmail.com]', \n",
    "          '_password':'[aimilios1908]'\n",
    "         }\n",
    "s = session.post(\"https://www.glassdoor.com/profile/login_input.htm\", data=payload)\n",
    "url = 'https://www.glassdoor.com/Job/jobs.htm?suggestCount=0&suggestChosen=false&clickSource=searchBtn&typedKeyword=economist&sc.keyword=economist&locT=C&locId=3021489&jobType='\n",
    "s = session.get(url, headers={'User-Agent':'Mozilla/5.0'})\n",
    "s = BeautifulSoup(s.text, 'html.parser') \n",
    "jobs = s.find(id='JobResults')\n",
    "jc = jobs.find_all(class_='jobContainer')"
   ]
  },
  {
   "cell_type": "code",
   "execution_count": 370,
   "metadata": {
    "collapsed": true
   },
   "outputs": [
    {
     "name": "stdout",
     "output_type": "stream",
     "text": [
      "<div class=\"jobContainer\">\n",
      " <div class=\"jobHeader\">\n",
      "  <a class=\"jobLink jobInfoItem jobTitle\" data-ajax=\"false\" data-ev-a=\"G-O\" data-gd-view=\"1\" data-ja-clk=\"0\" href=\"/partner/jobListing.htm?pos=102&amp;ao=192357&amp;s=58&amp;guid=0000017171b9b3738e407125eae3b648&amp;src=GD_JOB_AD&amp;t=SR&amp;extid=1&amp;exst=OL&amp;ist=&amp;ast=OL&amp;vt=w&amp;slr=true&amp;cs=1_a327d526&amp;cb=1586750927913&amp;jobListingId=3475743065\" rel=\"nofollow\" target=\"_blank\">\n",
      "   <div class=\"jobInfoItem jobEmpolyerName\">\n",
      "    NrgEdge Pte Ltd\n",
      "   </div>\n",
      "  </a>\n",
      "  <div class=\"saveJobWrap\">\n",
      "   <span class=\"save-job-button save-job-button-3475743065 nowrap\" data-ao-id=\"192357\" data-job-id=\"3475743065\" data-save-hook=\"JOB_SEARCH_PANE\" data-saved-job-id=\"\" title=\"Save\">\n",
      "    <i class=\"heart\">\n",
      "    </i>\n",
      "   </span>\n",
      "  </div>\n",
      " </div>\n",
      " <a class=\"jobLink jobInfoItem jobTitle\" data-ajax=\"false\" data-ev-a=\"G-O\" data-gd-view=\"1\" data-ja-clk=\"0\" href=\"/partner/jobListing.htm?pos=102&amp;ao=192357&amp;s=58&amp;guid=0000017171b9b3738e407125eae3b648&amp;src=GD_JOB_AD&amp;t=SR&amp;extid=1&amp;exst=OL&amp;ist=&amp;ast=OL&amp;vt=w&amp;slr=true&amp;cs=1_a327d526&amp;cb=1586750927913&amp;jobListingId=3475743065\" rel=\"nofollow\" target=\"_blank\">\n",
      "  Financial Analyst/Consultant\n",
      " </a>\n",
      " <div class=\"jobInfoItem empLoc\">\n",
      "  <span class=\"subtle loc\">\n",
      "   Seoul\n",
      "  </span>\n",
      "  <div class=\"jobLabels gdGrid\">\n",
      "   <div class=\"jobLabel\">\n",
      "    <div class=\"hotListing\">\n",
      "     Hot\n",
      "    </div>\n",
      "   </div>\n",
      "   <span class=\"jobLabel nowrap\">\n",
      "    <span class=\"minor\">\n",
      "     18d\n",
      "    </span>\n",
      "   </span>\n",
      "  </div>\n",
      " </div>\n",
      "</div>\n"
     ]
    }
   ],
   "source": [
    "j = jc[1]\n",
    "print(j.prettify())"
   ]
  },
  {
   "cell_type": "code",
   "execution_count": 373,
   "metadata": {
    "scrolled": true
   },
   "outputs": [],
   "source": [
    "t_title = ()\n",
    "t_id = ()\n",
    "t_link = ()\n",
    "t_employer = ()\n",
    "t_location1 = ()\n",
    "t_location2 = ()\n",
    "t_description = ()\n",
    "for j in jc:\n",
    "    id = j.find('span')['data-job-id']\n",
    "    jlink = j.find('a')['href']\n",
    "    link = base + jlink \n",
    "    employer = j.find('div', class_='jobInfoItem jobEmpolyerName')\n",
    "    location1 = 'Seoul'\n",
    "    location2 = j.find('span', class_='subtle loc')\n",
    "    jobdesc = 'JobDesc' + id\n",
    "    detail = session.get(link, headers={'User-Agent':'Mozilla/5.0'})\n",
    "    detail = BeautifulSoup(detail.text, 'html.parser') \n",
    "    title = detail.find('title')\n",
    "    description = detail.find(id='JobDescriptionContainer')\n",
    "    t_title += (title.text,)\n",
    "    t_id += (id,)\n",
    "    t_link += (link,) \n",
    "    t_employer += (employer.text,)\n",
    "    t_location1 += (location1,) \n",
    "    t_location2 += (location2.text,)\n",
    "    t_description += (description.text,)\n",
    "    #if None in (id, link, employer, location2, description): #tell Python to skip that iteration if the job listing does not contain the information you want\n",
    "    #   continue\n"
   ]
  },
  {
   "cell_type": "code",
   "execution_count": 376,
   "metadata": {},
   "outputs": [
    {
     "name": "stdout",
     "output_type": "stream",
     "text": [
      "('Bagelcode / Game Economy Job in Seoul | Glassdoor', 'NrgEdge Pte Ltd Financial Analyst/Consultant Job in Seoul | Glassdoor', 'Coupang Senior, Financial Analyst (부천물류센터) Job in Bucheon | Glassdoor')\n",
      "(' Bagelcode', ' NrgEdge Pte Ltd', ' Coupang')\n"
     ]
    }
   ],
   "source": [
    "print(t_title)\n",
    "print(t_employer)"
   ]
  },
  {
   "cell_type": "code",
   "execution_count": 380,
   "metadata": {},
   "outputs": [],
   "source": [
    "d = {'title':(t_title),'employer':(t_employer),\n",
    "     'location1':(t_location1),'location2':(t_location2),\n",
    "     'description':(t_description),'link':(t_link),\n",
    "     'id':(t_id)}\n",
    "\n",
    "\n",
    "#,'id':t_id,t_link,t_employer,t_location1,t_location2,t_description]\n",
    "#d = {'title':['Tom', 'nick', 'krish', 'jack'], 'Age':[20, 21, 19, 18]} \n",
    "#df = pd.DataFrame(d, columns =['title', 'id', 'link', 'employer', 'location1', 'location2', 'description']) \n"
   ]
  },
  {
   "cell_type": "code",
   "execution_count": 381,
   "metadata": {},
   "outputs": [],
   "source": [
    "df = pd.DataFrame(d) "
   ]
  },
  {
   "cell_type": "markdown",
   "metadata": {},
   "source": [
    "### And here is the final result ! "
   ]
  },
  {
   "cell_type": "code",
   "execution_count": 382,
   "metadata": {},
   "outputs": [
    {
     "data": {
      "text/html": [
       "<div>\n",
       "<style scoped>\n",
       "    .dataframe tbody tr th:only-of-type {\n",
       "        vertical-align: middle;\n",
       "    }\n",
       "\n",
       "    .dataframe tbody tr th {\n",
       "        vertical-align: top;\n",
       "    }\n",
       "\n",
       "    .dataframe thead th {\n",
       "        text-align: right;\n",
       "    }\n",
       "</style>\n",
       "<table border=\"1\" class=\"dataframe\">\n",
       "  <thead>\n",
       "    <tr style=\"text-align: right;\">\n",
       "      <th></th>\n",
       "      <th>title</th>\n",
       "      <th>employer</th>\n",
       "      <th>location1</th>\n",
       "      <th>location2</th>\n",
       "      <th>description</th>\n",
       "      <th>link</th>\n",
       "      <th>id</th>\n",
       "    </tr>\n",
       "  </thead>\n",
       "  <tbody>\n",
       "    <tr>\n",
       "      <th>0</th>\n",
       "      <td>Bagelcode / Game Economy Job in Seoul | Glassdoor</td>\n",
       "      <td>Bagelcode</td>\n",
       "      <td>Seoul</td>\n",
       "      <td>Seoul</td>\n",
       "      <td>.css-1noe2rc *{color:#505863;line-height:1.4em...</td>\n",
       "      <td>https://www.glassdoor.com/partner/jobListing.h...</td>\n",
       "      <td>3389917272</td>\n",
       "    </tr>\n",
       "    <tr>\n",
       "      <th>1</th>\n",
       "      <td>NrgEdge Pte Ltd Financial Analyst/Consultant J...</td>\n",
       "      <td>NrgEdge Pte Ltd</td>\n",
       "      <td>Seoul</td>\n",
       "      <td>Seoul</td>\n",
       "      <td>.css-1noe2rc *{color:#505863;line-height:1.4em...</td>\n",
       "      <td>https://www.glassdoor.com/partner/jobListing.h...</td>\n",
       "      <td>3475743065</td>\n",
       "    </tr>\n",
       "    <tr>\n",
       "      <th>2</th>\n",
       "      <td>Coupang Senior, Financial Analyst (부천물류센터) Job...</td>\n",
       "      <td>Coupang</td>\n",
       "      <td>Seoul</td>\n",
       "      <td>Bucheon</td>\n",
       "      <td>.css-1noe2rc *{color:#505863;line-height:1.4em...</td>\n",
       "      <td>https://www.glassdoor.com/partner/jobListing.h...</td>\n",
       "      <td>3437603975</td>\n",
       "    </tr>\n",
       "  </tbody>\n",
       "</table>\n",
       "</div>"
      ],
      "text/plain": [
       "                                               title          employer  \\\n",
       "0  Bagelcode / Game Economy Job in Seoul | Glassdoor         Bagelcode   \n",
       "1  NrgEdge Pte Ltd Financial Analyst/Consultant J...   NrgEdge Pte Ltd   \n",
       "2  Coupang Senior, Financial Analyst (부천물류센터) Job...           Coupang   \n",
       "\n",
       "  location1 location2                                        description  \\\n",
       "0     Seoul     Seoul  .css-1noe2rc *{color:#505863;line-height:1.4em...   \n",
       "1     Seoul     Seoul  .css-1noe2rc *{color:#505863;line-height:1.4em...   \n",
       "2     Seoul   Bucheon  .css-1noe2rc *{color:#505863;line-height:1.4em...   \n",
       "\n",
       "                                                link          id  \n",
       "0  https://www.glassdoor.com/partner/jobListing.h...  3389917272  \n",
       "1  https://www.glassdoor.com/partner/jobListing.h...  3475743065  \n",
       "2  https://www.glassdoor.com/partner/jobListing.h...  3437603975  "
      ]
     },
     "execution_count": 382,
     "metadata": {},
     "output_type": "execute_result"
    }
   ],
   "source": [
    "df"
   ]
  },
  {
   "cell_type": "code",
   "execution_count": null,
   "metadata": {},
   "outputs": [],
   "source": []
  }
 ],
 "metadata": {
  "kernelspec": {
   "display_name": "Python 3",
   "language": "python",
   "name": "python3"
  },
  "language_info": {
   "codemirror_mode": {
    "name": "ipython",
    "version": 3
   },
   "file_extension": ".py",
   "mimetype": "text/x-python",
   "name": "python",
   "nbconvert_exporter": "python",
   "pygments_lexer": "ipython3",
   "version": "3.7.4"
  }
 },
 "nbformat": 4,
 "nbformat_minor": 4
}
